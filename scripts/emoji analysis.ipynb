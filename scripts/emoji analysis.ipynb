{
 "cells": [
  {
   "cell_type": "markdown",
   "metadata": {},
   "source": [
    "# 1. Descriptive analysis"
   ]
  },
  {
   "cell_type": "code",
   "execution_count": 31,
   "metadata": {},
   "outputs": [],
   "source": [
    "import io\n",
    "import json\n",
    "import codecs\n",
    "\n",
    "from matplotlib import pyplot as plt\n",
    "import numpy as np\n",
    "import seaborn as sns\n",
    "import statsmodels as sm\n",
    "from statsmodels.iolib.summary2 import summary_col\n",
    "from statsmodels.stats.outliers_influence import variance_inflation_factor\n",
    "import scipy.stats as stats\n",
    "import pandas as pd\n",
    "from patsy import dmatrices"
   ]
  },
  {
   "cell_type": "code",
   "execution_count": 2,
   "metadata": {},
   "outputs": [],
   "source": [
    "data_dir = '../data/'"
   ]
  },
  {
   "cell_type": "markdown",
   "metadata": {},
   "source": [
    "## 1.1 Popularity of emojis"
   ]
  },
  {
   "cell_type": "code",
   "execution_count": 3,
   "metadata": {},
   "outputs": [],
   "source": [
    "actor_emojis_file = data_dir + 'actor_emojis'\n",
    "fin = open(actor_emojis_file, 'r')\n",
    "github_emoji_count = {}\n",
    "for eachLine in fin:\n",
    "    jsonObj = json.loads(eachLine.strip())\n",
    "    emojis = jsonObj['emojis']\n",
    "    for emoji in emojis:\n",
    "        if emoji not in github_emoji_count:\n",
    "            github_emoji_count[emoji] = 0\n",
    "        github_emoji_count[emoji] += emojis[emoji]\n",
    "fin.close()\n",
    "\n",
    "github_emoji_count_sorted = sorted(github_emoji_count.items(), key = lambda x:x[1], reverse = True)"
   ]
  },
  {
   "cell_type": "code",
   "execution_count": 4,
   "metadata": {},
   "outputs": [
    {
     "data": {
      "text/plain": [
       "2699"
      ]
     },
     "execution_count": 4,
     "metadata": {},
     "output_type": "execute_result"
    }
   ],
   "source": [
    "len(github_emoji_count_sorted)"
   ]
  },
  {
   "cell_type": "code",
   "execution_count": 5,
   "metadata": {},
   "outputs": [
    {
     "data": {
      "text/plain": [
       "'🚀 ✅ ⬆️ ☁️ 👍 ⬇️ 🎉 🌴 🎫 ✔️ ⚠️ ❌ ⌨️ 🚨 😄 ♻️ 📺 💛 ❤️ 🔥'"
      ]
     },
     "execution_count": 5,
     "metadata": {},
     "output_type": "execute_result"
    }
   ],
   "source": [
    "# top 20 emojis on GitHub\n",
    "emoji_top_20 = [x[0] for x in github_emoji_count_sorted[:20]]\n",
    "' '.join(emoji_top_20)"
   ]
  },
  {
   "cell_type": "code",
   "execution_count": 6,
   "metadata": {},
   "outputs": [],
   "source": [
    "# mapping unqualified emoji to qualified emoji\n",
    "mapping_file = data_dir + 'emoji_duplicate_mapping'\n",
    "with io.open(mapping_file, 'rt', encoding = \"utf8\") as file:\n",
    "    mapping_emojis = json.loads(file.read())"
   ]
  },
  {
   "cell_type": "code",
   "execution_count": 7,
   "metadata": {},
   "outputs": [],
   "source": [
    "# emojis by post type on GitHub\n",
    "post_emoji_file = data_dir + '2018_post_type_emojis'\n",
    "fin = codecs.open(post_emoji_file, 'r', 'utf-8')\n",
    "posttype_emoji_count = {}\n",
    "posttype_emoji_count_sorted = {}\n",
    "for eachLine in fin:\n",
    "    jsonObj = json.loads(eachLine.strip())\n",
    "    post_type = jsonObj['post_type']\n",
    "    emojis = jsonObj['emojis']\n",
    "    emoji_count = {}\n",
    "    for emoji_tuple in emojis:\n",
    "        emoji = emoji_tuple[0]\n",
    "        count = emoji_tuple[1]\n",
    "        if emoji in mapping_emojis:\n",
    "            emoji = mapping_emojis[emoji]\n",
    "        if emoji not in emoji_count:\n",
    "            emoji_count[emoji] = 0\n",
    "        emoji_count[emoji] += count\n",
    "    posttype_emoji_count[post_type] = emoji_count\n",
    "    emoji_count_sorted = sorted(emoji_count.items(), key = lambda x: x[1], reverse = True)\n",
    "    posttype_emoji_count_sorted[post_type] = emoji_count_sorted\n",
    "fin.close()"
   ]
  },
  {
   "cell_type": "code",
   "execution_count": 8,
   "metadata": {},
   "outputs": [
    {
     "name": "stdout",
     "output_type": "stream",
     "text": [
      "issues_comment\n",
      "👍 ⌨️ 😄 🎉 🚀 💪 😉 🚨 📺 ✨\n",
      "issues\n",
      "🚨 📺 ❌ ⚠️ ✔️ 🌴 👋 ✅ ⌨️ 👽\n",
      "pull_review_comment\n",
      "👍 😄 🤔 😉 ⚠️ 😅 🙂 😆 ✅ 💯\n",
      "pull\n",
      "☁️ 🎫 🚀 🌴 🎉 🚦 ♻️ 📅 🔕 🎟️\n",
      "pull_comment\n",
      "⬆️ 🚀 ✅ ⬇️ 👍 🎉 ✔️ ❌ ⚠️ 💛\n",
      "commit_comment\n",
      "✅ 📜 👍 🔥 💯 😄 🦍 🎉 🔴 ®️\n"
     ]
    }
   ],
   "source": [
    "# top 10 emojis in different posts\n",
    "for key in posttype_emoji_count_sorted:\n",
    "    emoji_count_sorted = posttype_emoji_count_sorted[key]\n",
    "    print(key)\n",
    "    selected = [x[0] for x in emoji_count_sorted[:10]]\n",
    "    print(' '.join(selected))"
   ]
  },
  {
   "cell_type": "code",
   "execution_count": 10,
   "metadata": {},
   "outputs": [
    {
     "name": "stdout",
     "output_type": "stream",
     "text": [
      "{'issues': 9436402, 'issues_comment': 18485203, 'pull_review_comment': 8366087, 'commit_comment': 802005, 'pull_comment': 11898784, 'pull': 13863740}\n",
      "{'issues': 0.03342174273626749, 'issues_comment': 0.03372205325524421, 'pull_review_comment': 0.02920254116410695, 'commit_comment': 0.060888647826385124, 'pull_comment': 0.14031240503231254, 'pull': 0.041403906882269866}\n"
     ]
    }
   ],
   "source": [
    "type_posts = {}\n",
    "post_file = data_dir + '2018_posttype_posts'\n",
    "fin = open(post_file, 'r')\n",
    "for eachLine in fin:\n",
    "    jsonObj = json.loads(eachLine.strip())\n",
    "    type_posts[jsonObj['post_type']] = jsonObj['count']\n",
    "fin.close()\n",
    "\n",
    "type_emojiposts = {}\n",
    "post_file = data_dir + '2018_posttype_emojiposts'\n",
    "fin = open(post_file, 'r')\n",
    "for eachLine in fin:\n",
    "    jsonObj = json.loads(eachLine.strip())\n",
    "    type_emojiposts[jsonObj['post_type']] = jsonObj['count']\n",
    "fin.close()\n",
    "\n",
    "type_emojipost_per = {}\n",
    "for post_type in type_posts:\n",
    "    type_emojipost_per[post_type] = type_emojiposts[post_type] / type_posts[post_type]\n",
    "print(type_posts)\n",
    "print(type_emojipost_per)"
   ]
  },
  {
   "cell_type": "markdown",
   "metadata": {},
   "source": [
    "## 1.2 Emoji usage by programming languages"
   ]
  },
  {
   "cell_type": "code",
   "execution_count": 11,
   "metadata": {},
   "outputs": [],
   "source": [
    "repo_lang_posts = {}\n",
    "repo_lang_posts_file = data_dir + '2018_repolang_posts'\n",
    "fin = open(repo_lang_posts_file, 'r')\n",
    "for eachLine in fin:\n",
    "    jsonObj = json.loads(eachLine.strip())\n",
    "    repo_lang_posts[jsonObj['repo_lang']] = jsonObj['posts']\n",
    "fin.close()"
   ]
  },
  {
   "cell_type": "code",
   "execution_count": 12,
   "metadata": {},
   "outputs": [],
   "source": [
    "repo_lang_emojiposts = {}\n",
    "repo_lang_emojiposts_file = data_dir + '2018_repolang_emojiposts'\n",
    "fin = open(repo_lang_emojiposts_file, 'r')\n",
    "for eachLine in fin:\n",
    "    jsonObj = json.loads(eachLine.strip())\n",
    "    repo_lang_emojiposts[jsonObj['repo_lang']] = jsonObj['posts']\n",
    "fin.close()"
   ]
  },
  {
   "cell_type": "code",
   "execution_count": 13,
   "metadata": {},
   "outputs": [],
   "source": [
    "lang_repos = {}\n",
    "lang_rank_file = data_dir + '2018_repolang_repos'\n",
    "fin = open(lang_rank_file, 'r')\n",
    "for eachLine in fin:\n",
    "    jsonObj = json.loads(eachLine.strip())\n",
    "    lang_repos[jsonObj['repo_lang']] = jsonObj['repos']\n",
    "fin.close()\n",
    "\n",
    "lang_repos_sorted = sorted(lang_repos.items(), key = lambda x: x[1], reverse = True)"
   ]
  },
  {
   "cell_type": "code",
   "execution_count": 14,
   "metadata": {},
   "outputs": [
    {
     "name": "stdout",
     "output_type": "stream",
     "text": [
      "['JavaScript', 'Python', 'Java', 'C++', 'Go', 'HTML', 'PHP', 'Ruby', 'TypeScript', 'C#', 'C', 'CSS', 'Shell', 'Rust', 'Scala', 'Swift', 'Objective-C', 'PowerShell', 'Jupyter Notebook', 'Kotlin']\n"
     ]
    }
   ],
   "source": [
    "top_20_langs = []\n",
    "for (lang, repos) in lang_repos_sorted[:22]:\n",
    "    if lang == 'null':\n",
    "        continue\n",
    "    if lang == None:\n",
    "        continue\n",
    "    top_20_langs.append(lang)\n",
    "print(top_20_langs)"
   ]
  },
  {
   "cell_type": "code",
   "execution_count": 15,
   "metadata": {},
   "outputs": [],
   "source": [
    "repo_lang_emojipost_per = {}\n",
    "for lang in top_20_langs:\n",
    "    repo_lang_emojipost_per[lang] = repo_lang_emojiposts[lang] / repo_lang_posts[lang]"
   ]
  },
  {
   "cell_type": "code",
   "execution_count": 16,
   "metadata": {},
   "outputs": [],
   "source": [
    "repolang_emoji_count = {}\n",
    "repolang_emoji_file = data_dir + '2018_repolang_emojis'\n",
    "fin = open(repolang_emoji_file, 'r')\n",
    "for eachLine in fin:\n",
    "    jsonObj = json.loads(eachLine.strip())\n",
    "    lang_emojis = jsonObj['emojis']\n",
    "    emoji_count = {}\n",
    "    for ele in lang_emojis:\n",
    "        emoji = ele[0]\n",
    "        if emoji in mapping_emojis:\n",
    "            emoji = mapping_emojis[emoji]\n",
    "        if emoji not in emoji_count:\n",
    "            emoji_count[emoji] = 0\n",
    "        emoji_count[emoji] += ele[1]\n",
    "    repolang_emoji_count[jsonObj['repo_lang']] = emoji_count\n",
    "fin.close()"
   ]
  },
  {
   "cell_type": "code",
   "execution_count": 17,
   "metadata": {
    "scrolled": true
   },
   "outputs": [
    {
     "name": "stdout",
     "output_type": "stream",
     "text": [
      "JavaScript\t1854\t3.9806464464050655\n",
      "Python\t1408\t3.412641366349333\n",
      "Java\t1096\t3.379612518194749\n",
      "C++\t1250\t3.684146734416641\n",
      "Go\t891\t3.3771118647958316\n",
      "HTML\t1593\t3.727019593720316\n",
      "PHP\t1190\t4.167697700610484\n",
      "Ruby\t1018\t2.309964228357754\n",
      "TypeScript\t1001\t3.3795817460585384\n",
      "C#\t800\t3.458615485124416\n",
      "C\t717\t3.6902110129637746\n",
      "CSS\t1154\t4.144305775881677\n",
      "Shell\t778\t4.335025945187563\n",
      "Rust\t606\t3.573941308484075\n",
      "Scala\t635\t2.7622115358799855\n",
      "Swift\t741\t3.5504178758225224\n",
      "Objective-C\t523\t3.466391727265569\n",
      "PowerShell\t341\t1.085518427856564\n",
      "Jupyter Notebook\t388\t3.4111302030444697\n",
      "Kotlin\t459\t3.6030194996074627\n"
     ]
    }
   ],
   "source": [
    "lang_emoji_type = {}\n",
    "lang_emoji_entropy = {}\n",
    "for lang in top_20_langs:\n",
    "    emoji_count = repolang_emoji_count[lang]\n",
    "    lang_emoji_type[lang] = len(emoji_count)\n",
    "    count_list = list(emoji_count.values())\n",
    "    lang_emoji_entropy[lang] = stats.entropy(count_list)\n",
    "    print(lang + '\\t' + str(len(emoji_count)) + '\\t' + str(lang_emoji_entropy[lang]))"
   ]
  },
  {
   "cell_type": "code",
   "execution_count": 32,
   "metadata": {},
   "outputs": [
    {
     "name": "stdout",
     "output_type": "stream",
     "text": [
      "handles:\n",
      "[<matplotlib.collections.PathCollection object at 0x7f6e08f2fdf0>, <matplotlib.collections.PathCollection object at 0x7f6e08f39280>, <matplotlib.collections.PathCollection object at 0x7f6e08f396d0>, <matplotlib.collections.PathCollection object at 0x7f6e08f39b20>, <matplotlib.collections.PathCollection object at 0x7f6e08f39f70>, <matplotlib.collections.PathCollection object at 0x7f6e0af96d60>, <matplotlib.collections.PathCollection object at 0x7f6e08f221c0>, <matplotlib.collections.PathCollection object at 0x7f6e08f44670>, <matplotlib.collections.PathCollection object at 0x7f6e08f44ac0>, <matplotlib.collections.PathCollection object at 0x7f6e08f44f10>]\n",
      "labels:\n",
      "['0.04', '0.08', '0.12', '0.16', '0.20', '0.24', '2000000', '4000000', '6000000', '8000000']\n"
     ]
    },
    {
     "name": "stderr",
     "output_type": "stream",
     "text": [
      "/tmp/ipykernel_5371/440836491.py:56: UserWarning: FixedFormatter should only be used together with FixedLocator\n",
      "  ax.set_xticklabels(ax.get_xticks(), size = 14)\n",
      "/tmp/ipykernel_5371/440836491.py:58: UserWarning: FixedFormatter should only be used together with FixedLocator\n",
      "  ax.set_yticklabels(yticks, size = 14)\n"
     ]
    },
    {
     "data": {
      "image/png": "[encoded data removed]",
      "text/plain": [
       "<Figure size 720x432 with 1 Axes>"
      ]
     },
     "metadata": {
      "needs_background": "light"
     },
     "output_type": "display_data"
    }
   ],
   "source": [
    "sns.set(style = \"whitegrid\")\n",
    "plt.subplots(figsize=(10, 6))\n",
    "plot_repos = []\n",
    "plot_types = []\n",
    "plot_entropy = []\n",
    "plot_pers = []\n",
    "for lang in top_20_langs:\n",
    "    plot_repos.append(lang_repos[lang])\n",
    "    plot_types.append(lang_emoji_type[lang])\n",
    "    plot_entropy.append(lang_emoji_entropy[lang])\n",
    "    plot_pers.append(repo_lang_emojipost_per[lang])\n",
    "ax = sns.scatterplot(x = plot_entropy, y = plot_types, size = plot_repos, hue = plot_pers, sizes=(300, 1000), legend = 'brief')#, style = plot_repos)\n",
    "\n",
    "for i in range(0, 20):\n",
    "    if top_20_langs[i] == 'JavaScript':\n",
    "        ax.text(plot_entropy[i] - 0.48, plot_types[i] - 30, top_20_langs[i], horizontalalignment='left', size='medium', color='black')\n",
    "        continue\n",
    "    if top_20_langs[i] == 'PHP':\n",
    "        ax.text(plot_entropy[i] - 0.01, plot_types[i] + 50, top_20_langs[i], horizontalalignment='left', size='medium', color='black')\n",
    "        continue\n",
    "    if top_20_langs[i] == 'CSS':\n",
    "        ax.text(plot_entropy[i] - 0.1, plot_types[i] - 90, top_20_langs[i], horizontalalignment='left', size='medium', color='black')\n",
    "        continue\n",
    "    if top_20_langs[i] == 'Shell':\n",
    "        ax.text(plot_entropy[i] - 0.25, plot_types[i] + 10, top_20_langs[i], horizontalalignment='left', size='medium', color='black')\n",
    "        continue\n",
    "    if top_20_langs[i] == 'C#':\n",
    "        ax.text(plot_entropy[i] - 0.18, plot_types[i] - 30, top_20_langs[i], horizontalalignment='left', size='medium', color='black')\n",
    "        continue\n",
    "    if top_20_langs[i] == 'Swift':\n",
    "        ax.text(plot_entropy[i] - 0.2, plot_types[i] - 60, top_20_langs[i], horizontalalignment='left', size='medium', color='black')\n",
    "        continue\n",
    "    if top_20_langs[i] == 'Objective-C':\n",
    "        ax.text(plot_entropy[i] - 0.48, plot_types[i] - 20, top_20_langs[i], horizontalalignment='left', size='medium', color='black')\n",
    "        continue\n",
    "    if top_20_langs[i] == 'Jupyter Notebook':\n",
    "        ax.text(plot_entropy[i] - 0.3, plot_types[i] - 90, top_20_langs[i], horizontalalignment='left', size='medium', color='black')\n",
    "        continue\n",
    "    if top_20_langs[i] == 'TypeScript':\n",
    "        ax.text(plot_entropy[i] - 0.45, plot_types[i] - 15, top_20_langs[i], horizontalalignment='left', size='medium', color='black')\n",
    "        continue\n",
    "    ax.text(plot_entropy[i] + 0.07, plot_types[i], top_20_langs[i], horizontalalignment='left', size='medium', color='black')#, weight='semibold'\n",
    "\n",
    "handles, labels = ax.get_legend_handles_labels()\n",
    "print('handles:')\n",
    "print(handles)\n",
    "print('labels:')\n",
    "print(labels)\n",
    "handles = handles[:5]\n",
    "labels = labels[:5]\n",
    "for h in handles:\n",
    "    sizes = [s * 3 for s in h.get_sizes()]\n",
    "    h.set_sizes(sizes)\n",
    "ax.legend(handles, labels, bbox_to_anchor=(0.26, 0.95), title='Prop. emoji posts', fontsize = 14, title_fontsize = 14)\n",
    "\n",
    "ax.set_xticklabels(ax.get_xticks(), size = 14)\n",
    "yticks = [int(i) for i in ax.get_yticks()]\n",
    "ax.set_yticklabels(yticks, size = 14)\n",
    "\n",
    "plt.xlabel('Emoji entropy', fontsize = 14)\n",
    "plt.ylabel('#Unique emojis', fontsize = 14)\n",
    "# plt.axvline(x = total_emoji_entropy, color = 'r', linestyle = '--')\n",
    "plt.savefig('../visualization/' + 'emoji_langs.png', dpi = 300)"
   ]
  },
  {
   "cell_type": "markdown",
   "metadata": {},
   "source": [
    "# 2. Regression"
   ]
  },
  {
   "cell_type": "code",
   "execution_count": 33,
   "metadata": {},
   "outputs": [
    {
     "data": {
      "text/html": [
       "<div>\n",
       "<style scoped>\n",
       "    .dataframe tbody tr th:only-of-type {\n",
       "        vertical-align: middle;\n",
       "    }\n",
       "\n",
       "    .dataframe tbody tr th {\n",
       "        vertical-align: top;\n",
       "    }\n",
       "\n",
       "    .dataframe thead th {\n",
       "        text-align: right;\n",
       "    }\n",
       "</style>\n",
       "<table border=\"1\" class=\"dataframe\">\n",
       "  <thead>\n",
       "    <tr style=\"text-align: right;\">\n",
       "      <th></th>\n",
       "      <th>actor_id</th>\n",
       "      <th>all_events</th>\n",
       "      <th>PullRequestProp</th>\n",
       "      <th>IssuesProp</th>\n",
       "      <th>CommentProp</th>\n",
       "      <th>PushProp</th>\n",
       "      <th>all_events_trend</th>\n",
       "      <th>working_days</th>\n",
       "      <th>working_days_trend</th>\n",
       "      <th>avg_hours_daily</th>\n",
       "      <th>...</th>\n",
       "      <th>C</th>\n",
       "      <th>CSS</th>\n",
       "      <th>PowerShell</th>\n",
       "      <th>Shell</th>\n",
       "      <th>Swift</th>\n",
       "      <th>Objective-C</th>\n",
       "      <th>GCC Machine Description</th>\n",
       "      <th>Jupyter Notebook</th>\n",
       "      <th>Rust</th>\n",
       "      <th>Scala</th>\n",
       "    </tr>\n",
       "  </thead>\n",
       "  <tbody>\n",
       "    <tr>\n",
       "      <th>0</th>\n",
       "      <td>8227320</td>\n",
       "      <td>155</td>\n",
       "      <td>0.096774</td>\n",
       "      <td>0.116129</td>\n",
       "      <td>0.174194</td>\n",
       "      <td>0.335484</td>\n",
       "      <td>-1</td>\n",
       "      <td>63</td>\n",
       "      <td>-1</td>\n",
       "      <td>1.412698</td>\n",
       "      <td>...</td>\n",
       "      <td>0</td>\n",
       "      <td>0</td>\n",
       "      <td>0</td>\n",
       "      <td>0</td>\n",
       "      <td>0</td>\n",
       "      <td>0</td>\n",
       "      <td>0</td>\n",
       "      <td>0</td>\n",
       "      <td>0</td>\n",
       "      <td>0</td>\n",
       "    </tr>\n",
       "    <tr>\n",
       "      <th>1</th>\n",
       "      <td>823643</td>\n",
       "      <td>11</td>\n",
       "      <td>0.090909</td>\n",
       "      <td>0.000000</td>\n",
       "      <td>0.363636</td>\n",
       "      <td>0.272727</td>\n",
       "      <td>-1</td>\n",
       "      <td>6</td>\n",
       "      <td>-1</td>\n",
       "      <td>1.333333</td>\n",
       "      <td>...</td>\n",
       "      <td>0</td>\n",
       "      <td>0</td>\n",
       "      <td>0</td>\n",
       "      <td>0</td>\n",
       "      <td>0</td>\n",
       "      <td>0</td>\n",
       "      <td>0</td>\n",
       "      <td>0</td>\n",
       "      <td>0</td>\n",
       "      <td>0</td>\n",
       "    </tr>\n",
       "    <tr>\n",
       "      <th>2</th>\n",
       "      <td>5576409</td>\n",
       "      <td>832</td>\n",
       "      <td>0.043269</td>\n",
       "      <td>0.176683</td>\n",
       "      <td>0.191106</td>\n",
       "      <td>0.407452</td>\n",
       "      <td>-1</td>\n",
       "      <td>138</td>\n",
       "      <td>-1</td>\n",
       "      <td>2.231884</td>\n",
       "      <td>...</td>\n",
       "      <td>0</td>\n",
       "      <td>0</td>\n",
       "      <td>0</td>\n",
       "      <td>0</td>\n",
       "      <td>0</td>\n",
       "      <td>0</td>\n",
       "      <td>0</td>\n",
       "      <td>0</td>\n",
       "      <td>0</td>\n",
       "      <td>0</td>\n",
       "    </tr>\n",
       "    <tr>\n",
       "      <th>3</th>\n",
       "      <td>11144180</td>\n",
       "      <td>349</td>\n",
       "      <td>0.163324</td>\n",
       "      <td>0.051576</td>\n",
       "      <td>0.077364</td>\n",
       "      <td>0.398281</td>\n",
       "      <td>-1</td>\n",
       "      <td>121</td>\n",
       "      <td>-1</td>\n",
       "      <td>1.537190</td>\n",
       "      <td>...</td>\n",
       "      <td>0</td>\n",
       "      <td>0</td>\n",
       "      <td>0</td>\n",
       "      <td>0</td>\n",
       "      <td>0</td>\n",
       "      <td>0</td>\n",
       "      <td>0</td>\n",
       "      <td>0</td>\n",
       "      <td>0</td>\n",
       "      <td>0</td>\n",
       "    </tr>\n",
       "    <tr>\n",
       "      <th>4</th>\n",
       "      <td>2230599</td>\n",
       "      <td>5970</td>\n",
       "      <td>0.128308</td>\n",
       "      <td>0.096315</td>\n",
       "      <td>0.509380</td>\n",
       "      <td>0.290955</td>\n",
       "      <td>-1</td>\n",
       "      <td>332</td>\n",
       "      <td>-1</td>\n",
       "      <td>5.554217</td>\n",
       "      <td>...</td>\n",
       "      <td>0</td>\n",
       "      <td>0</td>\n",
       "      <td>0</td>\n",
       "      <td>0</td>\n",
       "      <td>0</td>\n",
       "      <td>0</td>\n",
       "      <td>0</td>\n",
       "      <td>0</td>\n",
       "      <td>0</td>\n",
       "      <td>0</td>\n",
       "    </tr>\n",
       "    <tr>\n",
       "      <th>...</th>\n",
       "      <td>...</td>\n",
       "      <td>...</td>\n",
       "      <td>...</td>\n",
       "      <td>...</td>\n",
       "      <td>...</td>\n",
       "      <td>...</td>\n",
       "      <td>...</td>\n",
       "      <td>...</td>\n",
       "      <td>...</td>\n",
       "      <td>...</td>\n",
       "      <td>...</td>\n",
       "      <td>...</td>\n",
       "      <td>...</td>\n",
       "      <td>...</td>\n",
       "      <td>...</td>\n",
       "      <td>...</td>\n",
       "      <td>...</td>\n",
       "      <td>...</td>\n",
       "      <td>...</td>\n",
       "      <td>...</td>\n",
       "      <td>...</td>\n",
       "    </tr>\n",
       "    <tr>\n",
       "      <th>264803</th>\n",
       "      <td>28447962</td>\n",
       "      <td>3</td>\n",
       "      <td>0.000000</td>\n",
       "      <td>0.666667</td>\n",
       "      <td>0.333333</td>\n",
       "      <td>0.000000</td>\n",
       "      <td>1</td>\n",
       "      <td>2</td>\n",
       "      <td>1</td>\n",
       "      <td>1.500000</td>\n",
       "      <td>...</td>\n",
       "      <td>0</td>\n",
       "      <td>0</td>\n",
       "      <td>0</td>\n",
       "      <td>0</td>\n",
       "      <td>0</td>\n",
       "      <td>0</td>\n",
       "      <td>0</td>\n",
       "      <td>0</td>\n",
       "      <td>0</td>\n",
       "      <td>0</td>\n",
       "    </tr>\n",
       "    <tr>\n",
       "      <th>264804</th>\n",
       "      <td>39308976</td>\n",
       "      <td>3</td>\n",
       "      <td>0.333333</td>\n",
       "      <td>0.000000</td>\n",
       "      <td>0.000000</td>\n",
       "      <td>0.333333</td>\n",
       "      <td>-1</td>\n",
       "      <td>2</td>\n",
       "      <td>-1</td>\n",
       "      <td>1.000000</td>\n",
       "      <td>...</td>\n",
       "      <td>0</td>\n",
       "      <td>0</td>\n",
       "      <td>0</td>\n",
       "      <td>0</td>\n",
       "      <td>0</td>\n",
       "      <td>0</td>\n",
       "      <td>0</td>\n",
       "      <td>0</td>\n",
       "      <td>0</td>\n",
       "      <td>0</td>\n",
       "    </tr>\n",
       "    <tr>\n",
       "      <th>264805</th>\n",
       "      <td>35534216</td>\n",
       "      <td>9</td>\n",
       "      <td>0.222222</td>\n",
       "      <td>0.000000</td>\n",
       "      <td>0.000000</td>\n",
       "      <td>0.222222</td>\n",
       "      <td>-1</td>\n",
       "      <td>1</td>\n",
       "      <td>-1</td>\n",
       "      <td>2.000000</td>\n",
       "      <td>...</td>\n",
       "      <td>0</td>\n",
       "      <td>0</td>\n",
       "      <td>0</td>\n",
       "      <td>0</td>\n",
       "      <td>0</td>\n",
       "      <td>0</td>\n",
       "      <td>0</td>\n",
       "      <td>0</td>\n",
       "      <td>0</td>\n",
       "      <td>0</td>\n",
       "    </tr>\n",
       "    <tr>\n",
       "      <th>264806</th>\n",
       "      <td>514738</td>\n",
       "      <td>11</td>\n",
       "      <td>0.000000</td>\n",
       "      <td>0.000000</td>\n",
       "      <td>0.272727</td>\n",
       "      <td>0.363636</td>\n",
       "      <td>1</td>\n",
       "      <td>4</td>\n",
       "      <td>1</td>\n",
       "      <td>1.000000</td>\n",
       "      <td>...</td>\n",
       "      <td>0</td>\n",
       "      <td>0</td>\n",
       "      <td>0</td>\n",
       "      <td>0</td>\n",
       "      <td>0</td>\n",
       "      <td>0</td>\n",
       "      <td>0</td>\n",
       "      <td>0</td>\n",
       "      <td>0</td>\n",
       "      <td>0</td>\n",
       "    </tr>\n",
       "    <tr>\n",
       "      <th>264807</th>\n",
       "      <td>35508479</td>\n",
       "      <td>7</td>\n",
       "      <td>0.285714</td>\n",
       "      <td>0.000000</td>\n",
       "      <td>0.000000</td>\n",
       "      <td>0.285714</td>\n",
       "      <td>-1</td>\n",
       "      <td>1</td>\n",
       "      <td>-1</td>\n",
       "      <td>1.000000</td>\n",
       "      <td>...</td>\n",
       "      <td>0</td>\n",
       "      <td>0</td>\n",
       "      <td>0</td>\n",
       "      <td>0</td>\n",
       "      <td>0</td>\n",
       "      <td>0</td>\n",
       "      <td>0</td>\n",
       "      <td>0</td>\n",
       "      <td>0</td>\n",
       "      <td>0</td>\n",
       "    </tr>\n",
       "  </tbody>\n",
       "</table>\n",
       "<p>529616 rows × 65 columns</p>\n",
       "</div>"
      ],
      "text/plain": [
       "        actor_id  all_events  PullRequestProp  IssuesProp  CommentProp  \\\n",
       "0        8227320         155         0.096774    0.116129     0.174194   \n",
       "1         823643          11         0.090909    0.000000     0.363636   \n",
       "2        5576409         832         0.043269    0.176683     0.191106   \n",
       "3       11144180         349         0.163324    0.051576     0.077364   \n",
       "4        2230599        5970         0.128308    0.096315     0.509380   \n",
       "...          ...         ...              ...         ...          ...   \n",
       "264803  28447962           3         0.000000    0.666667     0.333333   \n",
       "264804  39308976           3         0.333333    0.000000     0.000000   \n",
       "264805  35534216           9         0.222222    0.000000     0.000000   \n",
       "264806    514738          11         0.000000    0.000000     0.272727   \n",
       "264807  35508479           7         0.285714    0.000000     0.000000   \n",
       "\n",
       "        PushProp  all_events_trend  working_days  working_days_trend  \\\n",
       "0       0.335484                -1            63                  -1   \n",
       "1       0.272727                -1             6                  -1   \n",
       "2       0.407452                -1           138                  -1   \n",
       "3       0.398281                -1           121                  -1   \n",
       "4       0.290955                -1           332                  -1   \n",
       "...          ...               ...           ...                 ...   \n",
       "264803  0.000000                 1             2                   1   \n",
       "264804  0.333333                -1             2                  -1   \n",
       "264805  0.222222                -1             1                  -1   \n",
       "264806  0.363636                 1             4                   1   \n",
       "264807  0.285714                -1             1                  -1   \n",
       "\n",
       "        avg_hours_daily  ...  C  CSS  PowerShell  Shell  Swift  Objective-C  \\\n",
       "0              1.412698  ...  0    0           0      0      0            0   \n",
       "1              1.333333  ...  0    0           0      0      0            0   \n",
       "2              2.231884  ...  0    0           0      0      0            0   \n",
       "3              1.537190  ...  0    0           0      0      0            0   \n",
       "4              5.554217  ...  0    0           0      0      0            0   \n",
       "...                 ...  ... ..  ...         ...    ...    ...          ...   \n",
       "264803         1.500000  ...  0    0           0      0      0            0   \n",
       "264804         1.000000  ...  0    0           0      0      0            0   \n",
       "264805         2.000000  ...  0    0           0      0      0            0   \n",
       "264806         1.000000  ...  0    0           0      0      0            0   \n",
       "264807         1.000000  ...  0    0           0      0      0            0   \n",
       "\n",
       "        GCC Machine Description  Jupyter Notebook  Rust  Scala  \n",
       "0                             0                 0     0      0  \n",
       "1                             0                 0     0      0  \n",
       "2                             0                 0     0      0  \n",
       "3                             0                 0     0      0  \n",
       "4                             0                 0     0      0  \n",
       "...                         ...               ...   ...    ...  \n",
       "264803                        0                 0     0      0  \n",
       "264804                        0                 0     0      0  \n",
       "264805                        0                 0     0      0  \n",
       "264806                        0                 0     0      0  \n",
       "264807                        0                 0     0      0  \n",
       "\n",
       "[529616 rows x 65 columns]"
      ]
     },
     "execution_count": 33,
     "metadata": {},
     "output_type": "execute_result"
    }
   ],
   "source": [
    "feature_file = data_dir + '2018_emoji_and_non_emoji_user_features'\n",
    "df1 = pd.read_csv(feature_file + '_p1', sep = '\\t', header = 0)\n",
    "df2 = pd.read_csv(feature_file + '_p2', sep = '\\t', header = 0)\n",
    "df3 = pd.read_csv(feature_file + '_p3', sep = '\\t', header = 0)\n",
    "df = pd.concat([df1, df2, df3])\n",
    "df"
   ]
  },
  {
   "cell_type": "code",
   "execution_count": 34,
   "metadata": {},
   "outputs": [],
   "source": [
    "df = df.rename(columns={\"C++\": \"Cpp\", \"C#\": \"C_Sharp\", 'Objective-C': 'Objective_C', 'GCC Machine Description': 'GCC', 'Jupyter Notebook': 'Jupyter_Notebook'})"
   ]
  },
  {
   "cell_type": "code",
   "execution_count": 35,
   "metadata": {},
   "outputs": [],
   "source": [
    "df['posts'] = df.issues + df.issues_comment + df.pull + df.pull_comment + df.commit_comment + df.pull_review_comment\n",
    "\n",
    "df['issues_per'] = df['issues'] / df['posts']\n",
    "df['pull_per'] = df['pull'] / df['posts']\n",
    "df['issues_comment_per'] = df['issues_comment'] / df['posts']\n",
    "df['pull_comment_per'] = df['pull_comment'] / df['posts']\n",
    "df['commit_comment_per'] = df['commit_comment'] / df['posts']\n",
    "df['pull_review_comment_per'] = df['pull_review_comment'] / df['posts']\n",
    "\n",
    "df['all_events_log'] = np.log(df['all_events'] + 1)\n",
    "df['n_seg_log'] = np.log(df['n_seg'] + 1)\n",
    "df['n_seg_multi_log'] = np.log(df['n_seg_multi'] + 1)\n",
    "df['posts_log'] = np.log(df['posts'] + 1)\n",
    "df['working_days_log'] = np.log(df['working_days'] + 1)\n",
    "df['platform_age_log'] = np.log(df['platform_age'] + 1)\n",
    "df['emoji_post_log'] = np.log(df['emoji_posts'] + 1)\n",
    "df['emoji_post_prop'] = df['emoji_posts'] / df['posts']"
   ]
  },
  {
   "cell_type": "code",
   "execution_count": 36,
   "metadata": {},
   "outputs": [],
   "source": [
    "productivity = ['all_events_log', 'working_days_log', 'avg_hours_daily', 'avg_seg_hour', 'n_seg_log', \n",
    "                'n_seg_multi_log', 'posts_log', 'gap1', 'gap2', 'gap4', 'gap8', 'gap16', 'gap32', 'gap64', 'gap128', 'gap256']\n",
    "trends_of_productivity = ['all_events_trend', 'working_days_trend', 'avg_hours_daily_trend', 'avg_seg_trend', \n",
    "                          'n_seg_trend', 'n_seg_multi_trend', 'post_trend',]\n",
    "type_of_work = ['PullRequestProp', 'IssuesProp', 'CommentProp', 'PushProp', 'PullRequestDayProp', 'IssuesDayProp', \n",
    "                'CommentDayProp', 'PushDayProp', 'PullRequestSegProp', 'IssuesSegProp', 'CommentSegProp', 'PushSegProp',]\n",
    "type_of_communication = ['issues_per', 'pull_per', 'issues_comment_per', 'pull_comment_per', 'commit_comment_per', 'pull_review_comment_per']\n",
    "time_management = ['weekday_entropy', 'hours_entropy']\n",
    "\n",
    "column_names = list(df.columns)\n",
    "background = ['platform_age_log'] + column_names[45:65]\n",
    "feature_sets = [productivity, trends_of_productivity, type_of_work, type_of_communication, time_management, background]\n"
   ]
  },
  {
   "cell_type": "code",
   "execution_count": 37,
   "metadata": {},
   "outputs": [
    {
     "data": {
      "text/plain": [
       "64"
      ]
     },
     "execution_count": 37,
     "metadata": {},
     "output_type": "execute_result"
    }
   ],
   "source": [
    "all_feature = productivity + trends_of_productivity + type_of_work + type_of_communication + time_management + background\n",
    "len(all_feature)"
   ]
  },
  {
   "cell_type": "markdown",
   "metadata": {},
   "source": [
    "## 2.1 Outcome variable: emoji posts"
   ]
  },
  {
   "cell_type": "code",
   "execution_count": 38,
   "metadata": {},
   "outputs": [
    {
     "name": "stderr",
     "output_type": "stream",
     "text": [
      "/home/panda/anaconda3/envs/699/lib/python3.8/site-packages/statsmodels/regression/linear_model.py:1752: RuntimeWarning: divide by zero encountered in double_scalars\n",
      "  return 1 - self.ssr/self.centered_tss\n",
      "/home/panda/anaconda3/envs/699/lib/python3.8/site-packages/statsmodels/stats/outliers_influence.py:195: RuntimeWarning: divide by zero encountered in double_scalars\n",
      "  vif = 1. / (1. - r_squared_i)\n"
     ]
    },
    {
     "name": "stdout",
     "output_type": "stream",
     "text": [
      "    VIF Factor          features\n",
      "0          0.0         Intercept\n",
      "1         57.0    all_events_log\n",
      "2        344.9  working_days_log\n",
      "3          6.3   avg_hours_daily\n",
      "4          1.4      avg_seg_hour\n",
      "..         ...               ...\n",
      "60         1.0       Objective_C\n",
      "61         1.0               GCC\n",
      "62         1.0  Jupyter_Notebook\n",
      "63         1.0              Rust\n",
      "64         1.0             Scala\n",
      "\n",
      "[65 rows x 2 columns]\n",
      "issues_per\n",
      "inf\n"
     ]
    }
   ],
   "source": [
    "# the general VIF process: feature selection\n",
    "# http://rstudio-pubs-static.s3.amazonaws.com/19354_8a4bf0895a5a4ecba74c55817b68f0a5.html\n",
    "feature_columns = []\n",
    "for feature_set in feature_sets:\n",
    "    feature_columns += feature_set\n",
    "\n",
    "def copy_list(alist):\n",
    "    blist = []\n",
    "    for i in alist:\n",
    "        blist.append(i)\n",
    "    return blist\n",
    "    \n",
    "drop = True\n",
    "YY = 'emoji_post_prop'\n",
    "# YY = 'emoji_post_log'\n",
    "while drop:\n",
    "    df1 = df[feature_columns + [YY]]\n",
    "    features = \"+\".join(feature_columns)\n",
    "\n",
    "    # get y and X dataframes based on this regression:\n",
    "    y, X = dmatrices(YY + ' ~' + features, df1, return_type='dataframe')    \n",
    "    vif_list = [variance_inflation_factor(X.values, i) for i in range(X.shape[1])]\n",
    "    \n",
    "    vif = pd.DataFrame()\n",
    "    columns_list = X.columns\n",
    "    vif[\"VIF Factor\"] = vif_list\n",
    "    vif[\"features\"] = columns_list\n",
    "    print(vif.round(1))\n",
    "    \n",
    "    vif_max = float(max(vif_list))\n",
    "    \n",
    "    if vif_max > 5.0:\n",
    "        feature_to_remove = columns_list[vif_list.index(vif_max)]\n",
    "        if feature_to_remove == 'Intercept':           \n",
    "            vif_list_2 = copy_list(vif_list)\n",
    "            vif_list_2.remove(vif_max)\n",
    "            vif_max = float(max(vif_list_2))\n",
    "            if vif_max <= 5.0:\n",
    "                drop = False\n",
    "            else:\n",
    "                feature_to_remove = columns_list[vif_list.index(vif_max)]\n",
    "    \n",
    "    else:\n",
    "        drop = False\n",
    "    \n",
    "    if drop:\n",
    "        print(feature_to_remove)\n",
    "        print(vif_max)\n",
    "        feature_columns.remove(feature_to_remove)"
   ]
  },
  {
   "cell_type": "code",
   "execution_count": null,
   "metadata": {},
   "outputs": [],
   "source": [
    "y = df[YY]\n",
    "feature_columns_for_use = feature_columns\n",
    "selected_features = []\n",
    "results = []\n",
    "for feature_set in feature_sets:\n",
    "    selected_features += list(set(feature_set) & set(feature_columns_for_use))\n",
    "    df_chosen = df[selected_features]\n",
    "    X = df_chosen\n",
    "    X2 = sm.add_constant(X)\n",
    "    model = sm.OLS(y, X2)\n",
    "    result = model.fit()\n",
    "    print(result.summary())\n",
    "    results.append(result)\n",
    "\n",
    "dfoutput = summary_col(results, stars = True)\n",
    "print(dfoutput)"
   ]
  },
  {
   "cell_type": "code",
   "execution_count": null,
   "metadata": {},
   "outputs": [],
   "source": [
    "print(dfoutput.as_latex())"
   ]
  },
  {
   "cell_type": "markdown",
   "metadata": {},
   "source": [
    "## 2.2 Outcome variable: prop. emotional emojis"
   ]
  },
  {
   "cell_type": "code",
   "execution_count": null,
   "metadata": {},
   "outputs": [],
   "source": [
    "df_emoji = df.loc[df.emoji_posts > 0]\n",
    "df_ee = pd.read_csv(data_dir + '2018_emoji_user_emotional_emoji', sep = '\\t', header = 0)\n",
    "df_emoji_ee = df_emoji.join(df_ee.set_index('actor_id'), on = 'actor_id')"
   ]
  },
  {
   "cell_type": "code",
   "execution_count": null,
   "metadata": {},
   "outputs": [],
   "source": [
    "feature_columns = []\n",
    "for feature_set in feature_sets:\n",
    "    feature_columns += feature_set\n",
    "\n",
    "def copy_list(alist):\n",
    "    blist = []\n",
    "    for i in alist:\n",
    "        blist.append(i)\n",
    "    return blist\n",
    "    \n",
    "drop = True\n",
    "YY = 'prop_emotional_emoji'\n",
    "while drop:\n",
    "    df1 = df_emoji_ee[feature_columns + [YY]]\n",
    "    features = \"+\".join(feature_columns)\n",
    "\n",
    "    # get y and X dataframes based on this regression:\n",
    "    y, X = dmatrices(YY + ' ~' + features, df1, return_type='dataframe')    \n",
    "    vif_list = [variance_inflation_factor(X.values, i) for i in range(X.shape[1])]\n",
    "    \n",
    "    vif = pd.DataFrame()\n",
    "    columns_list = X.columns\n",
    "    vif[\"VIF Factor\"] = vif_list\n",
    "    vif[\"features\"] = columns_list\n",
    "    print(vif.round(1))\n",
    "    \n",
    "    vif_max = float(max(vif_list))\n",
    "    \n",
    "    if vif_max > 5.0:\n",
    "        feature_to_remove = columns_list[vif_list.index(vif_max)]\n",
    "        if feature_to_remove == 'Intercept':           \n",
    "            vif_list_2 = copy_list(vif_list)\n",
    "            vif_list_2.remove(vif_max)\n",
    "            vif_max = float(max(vif_list_2))\n",
    "            if vif_max <= 5.0:\n",
    "                drop = False\n",
    "            else:\n",
    "                feature_to_remove = columns_list[vif_list.index(vif_max)]\n",
    "    \n",
    "    else:\n",
    "        drop = False\n",
    "    \n",
    "    if drop:\n",
    "        print(feature_to_remove)\n",
    "        print(vif_max)\n",
    "        feature_columns.remove(feature_to_remove)"
   ]
  },
  {
   "cell_type": "code",
   "execution_count": null,
   "metadata": {},
   "outputs": [],
   "source": [
    "# after VIF in general\n",
    "y = df_emoji_ee[YY]\n",
    "feature_columns_for_use = feature_columns\n",
    "selected_features = []\n",
    "results = []\n",
    "for feature_set in feature_sets:\n",
    "    selected_features += list(set(feature_set) & set(feature_columns_for_use))\n",
    "    df_chosen = df_emoji_ee[selected_features]\n",
    "    X = df_chosen\n",
    "    X2 = sm.add_constant(X)\n",
    "    model = sm.OLS(y, X2)\n",
    "    result = model.fit()\n",
    "    print(result.summary())\n",
    "    results.append(result)\n",
    "\n",
    "dfoutput = summary_col(results, stars = True)\n",
    "print(dfoutput)"
   ]
  },
  {
   "cell_type": "code",
   "execution_count": null,
   "metadata": {},
   "outputs": [],
   "source": [
    "print(dfoutput.as_latex())"
   ]
  },
  {
   "cell_type": "markdown",
   "metadata": {},
   "source": [
    "# 3. Prediction"
   ]
  },
  {
   "cell_type": "markdown",
   "metadata": {},
   "source": [
    "## 3.1 Model training"
   ]
  },
  {
   "cell_type": "code",
   "execution_count": null,
   "metadata": {},
   "outputs": [],
   "source": [
    "from sklearn.model_selection import train_test_split \n",
    "from sklearn.preprocessing import MinMaxScaler\n",
    "from sklearn.svm import SVC\n",
    "from sklearn.ensemble import GradientBoostingClassifier\n",
    "from sklearn.model_selection import GridSearchCV\n",
    "from sklearn.linear_model import LogisticRegression\n",
    "from sklearn.neural_network import MLPClassifier\n",
    "from sklearn.metrics import accuracy_score,recall_score,precision_score,f1_score, roc_auc_score\n",
    "\n",
    "import sys"
   ]
  },
  {
   "cell_type": "code",
   "execution_count": null,
   "metadata": {},
   "outputs": [],
   "source": [
    "models = {'SVM1': [SVC(), {'kernel': ['rbf'], 'C': [0.1, 1, 10, 20]}],\n",
    "          'GBDT': [GradientBoostingClassifier(), {'learning_rate': [0.05, 0.1, 0.2], 'n_estimators': [140], 'max_depth': range(3, 10, 2), 'max_features': ['sqrt']}],\n",
    "          'logistic': [LogisticRegression(), {'penalty': ['l2'],'C':[0.01, 0.1, 1, 10, 20, 50, 100], 'max_iter': [1000]}],\n",
    "          'MLP': [MLPClassifier(), {'hidden_layer_sizes': [(10,30,10),(20,)], 'activation': ['tanh', 'relu'], 'solver': ['sgd', 'adam'], 'alpha': [0.0001, 0.05], 'learning_rate': ['constant','adaptive'], 'max_iter': [1000]}]\n",
    "         }"
   ]
  },
  {
   "cell_type": "code",
   "execution_count": null,
   "metadata": {},
   "outputs": [],
   "source": [
    "def train_model(df_ds, selected_columns):\n",
    "    X = df_ds[selected_columns]\n",
    "    y = df_ds['dropout']\n",
    "    X_train, X_test, y_train, y_test = train_test_split(X, y, test_size = 0.2, random_state = 0)\n",
    "    scaler = MinMaxScaler()\n",
    "    X_train_scaled = scaler.fit_transform(X_train)\n",
    "    X_test_scaled = scaler.transform(X_test)\n",
    "   \n",
    "    model_accuracies = {}\n",
    "    model_aucs = {}\n",
    "    model_best_params = {}\n",
    "    model_pred_probs = {}\n",
    "    for model_name in models:\n",
    "        clf = models[model_name][0]\n",
    "        grid_values = models[model_name][1]\n",
    "\n",
    "        grid_clf_acc = GridSearchCV(clf, param_grid = grid_values, scoring = 'accuracy', cv = 5)\n",
    "        grid_clf_acc.fit(X_train_scaled, y_train)\n",
    "\n",
    "        y_pred_acc = grid_clf_acc.predict(X_test_scaled)\n",
    "\n",
    "        accuracy = accuracy_score(y_test, y_pred_acc)\n",
    "        model_accuracies[model_name] = accuracy\n",
    "        \n",
    "        if model_name == 'SVM1':\n",
    "            y_pred_prob = grid_clf_acc.decision_function(X_test_scaled)\n",
    "        else:\n",
    "            y_pred_prob = grid_clf_acc.predict_proba(X_test_scaled)[:, 1]\n",
    "        model_pred_probs[model_name] = list(y_pred_prob)\n",
    "        auc = roc_auc_score(y_test, y_pred_prob)\n",
    "        model_aucs[model_name] = auc\n",
    "        \n",
    "        best_params = grid_clf_acc.best_params_\n",
    "        model_best_params[model_name] = best_params\n",
    "\n",
    "        model_pred_probs['gt'] = list(y_test) #ground truth\n",
    "    return model_accuracies, model_aucs, model_best_params, model_pred_probs"
   ]
  },
  {
   "cell_type": "code",
   "execution_count": null,
   "metadata": {},
   "outputs": [],
   "source": [
    "input_dir = data_dir + 'prediction_input/'\n",
    "output_dir = data_dir + 'prediction_output/'\n",
    "measure_activity_levels = {'hour': [0.05, 0.1, 0.2, 0.3, 0.4, 0.5, 0.6],\n",
    "                          'day': [0.05, 0.1, 0.2, 0.3, 0.4, 0.5, 0.6, 0.7]}"
   ]
  },
  {
   "cell_type": "code",
   "execution_count": null,
   "metadata": {},
   "outputs": [],
   "source": [
    "for measure in measure_activity_levels:\n",
    "    activity_levels = measure_activity_levels[measure]\n",
    "\n",
    "    fout_accuracy = open(output_dir + measure + '_accuracies', 'a', buffering = 1)\n",
    "    fout_auc = open(output_dir + measure + '_auc', 'a', buffering = 1)\n",
    "    fout_param = open(output_dir + measure + '_param', 'a', buffering = 1)\n",
    "    fout_pred = open(output_dir + measure + '_pred', 'a', buffering = 1)\n",
    "    for level in activity_levels:\n",
    "        print(level)\n",
    "        for i in range(0, 30):\n",
    "            print(i)\n",
    "            df_ds = pd.read_csv(input_dir + measure + '_dropout_' + str(level) + '_' + str(i), dtype = {\"lang\": \"string\"}, sep = '\\t', header = 0)\n",
    "            cs = list(df_ds.columns)\n",
    "            selected_columns = cs[1:-1]\n",
    "            model_accuracies, model_aucs, model_best_params, model_pred_probs = train_model(df_ds, selected_columns)\n",
    "            fout_accuracy.write(str(level) + '\\t' + str(i) + '\\t' + json.dumps(model_accuracies) + '\\n')\n",
    "            fout_auc.write(str(level) + '\\t' + str(i) + '\\t' + json.dumps(model_aucs) + '\\n')\n",
    "            fout_param.write(str(level) + '\\t' + str(i) + '\\t' + json.dumps(model_best_params) + '\\n')\n",
    "            fout_pred.write(str(level) + '\\t' + str(i) + '\\t' + json.dumps(model_pred_probs) + '\\n')\n",
    "\n",
    "    fout_accuracy.close()\n",
    "    fout_auc.close()\n",
    "    fout_param.close()\n",
    "    fout_pred.close()"
   ]
  },
  {
   "cell_type": "markdown",
   "metadata": {},
   "source": [
    "## 3.2 Model performance"
   ]
  },
  {
   "cell_type": "code",
   "execution_count": null,
   "metadata": {},
   "outputs": [],
   "source": [
    "from matplotlib.ticker import FormatStrFormatter"
   ]
  },
  {
   "cell_type": "code",
   "execution_count": null,
   "metadata": {},
   "outputs": [],
   "source": [
    "sns.set(style = \"ticks\")"
   ]
  },
  {
   "cell_type": "code",
   "execution_count": null,
   "metadata": {},
   "outputs": [],
   "source": [
    "def get_prediction_results(measure):\n",
    "    level_model_accuracies = {}\n",
    "    accuracy_file = output_dir + measure + '_accuracies'\n",
    "    fin = open(accuracy_file, 'r')\n",
    "    for eachLine in fin:\n",
    "        words = eachLine.strip().split('\\t')\n",
    "        level = float(words[0])\n",
    "        if level not in level_model_accuracies:\n",
    "            level_model_accuracies[level] = {}\n",
    "        i = int(words[1]) #dataset index\n",
    "        if i not in level_model_accuracies[level]:\n",
    "            level_model_accuracies[level][i] = {}\n",
    "        model_accuracies = json.loads(words[2])\n",
    "        for key in model_accuracies:\n",
    "            level_model_accuracies[level][i][key] = model_accuracies[key]\n",
    "    fin.close()\n",
    "    \n",
    "    level_model_auc = {}\n",
    "    auc_file = output_dir + measure + '_auc'\n",
    "    fin = open(auc_file, 'r')\n",
    "    for eachLine in fin:\n",
    "        words = eachLine.strip().split('\\t')\n",
    "        level = float(words[0])\n",
    "        if level not in level_model_auc:\n",
    "            level_model_auc[level] = {}\n",
    "        i = int(words[1])\n",
    "        if i not in level_model_auc[level]:\n",
    "            level_model_auc[level][i] = {}\n",
    "        model_auc = json.loads(words[2])\n",
    "        for key in model_auc:\n",
    "            level_model_auc[level][i][key] = model_auc[key]\n",
    "    fin.close()\n",
    "    return level_model_accuracies, level_model_auc"
   ]
  },
  {
   "cell_type": "code",
   "execution_count": null,
   "metadata": {},
   "outputs": [],
   "source": [
    "mds = {'GBDT': 'GBDT', 'logistic': 'Logistic', 'SVM1': 'SVM', 'MLP': 'MLP'}"
   ]
  },
  {
   "cell_type": "markdown",
   "metadata": {},
   "source": [
    "### 3.2.1 Prediction results by avg. daily working hours"
   ]
  },
  {
   "cell_type": "code",
   "execution_count": null,
   "metadata": {},
   "outputs": [],
   "source": [
    "hour_accuracies, hour_auc = get_prediction_results('hour')\n",
    "\n",
    "levels = []\n",
    "accs = []\n",
    "aucs = []\n",
    "models = []\n",
    "\n",
    "for level in measure_activity_levels['hour']:\n",
    "    for i in range(0, 30):\n",
    "        accuracies = hour_accuracies[level][i]\n",
    "        auc = hour_auc[level][i]\n",
    "        for model in mds:\n",
    "            levels.append(int(level * 100))\n",
    "            accs.append(accuracies[model])\n",
    "            aucs.append(auc[model])\n",
    "            models.append(mds[model])\n",
    "\n",
    "df_hour = pd.DataFrame({'level': levels, 'accuracy': accs, 'auc': aucs, 'Model': models})"
   ]
  },
  {
   "cell_type": "code",
   "execution_count": null,
   "metadata": {},
   "outputs": [
    {
     "data": {
      "image/png": "[encoded data removed]",
      "text/plain": [
       "<Figure size 360x216 with 1 Axes>"
      ]
     },
     "metadata": {},
     "output_type": "display_data"
    }
   ],
   "source": [
    "plt.figure(figsize = (5, 3))\n",
    "ax = sns.lineplot(\n",
    "    data = df_hour,\n",
    "    x = \"level\", y = \"accuracy\", hue = \"Model\", style = \"Model\",\n",
    "    markers = True, dashes = False, ci = 95\n",
    ")\n",
    "ax.yaxis.set_major_formatter(FormatStrFormatter('%.2f'))\n",
    "\n",
    "x_label = 'Top k% active (by avg. working hours)'\n",
    "y_label = 'Accuracy'\n",
    "plt.xlabel(x_label, fontsize = 14)\n",
    "plt.ylabel(y_label, fontsize = 14)\n",
    "\n",
    "plt.xticks(fontsize = 14)\n",
    "plt.yticks(fontsize = 14)\n",
    "plt.tight_layout()\n",
    "plt.savefig('../visualization/hour_accuracy.png', dpi = 300)"
   ]
  },
  {
   "cell_type": "code",
   "execution_count": null,
   "metadata": {},
   "outputs": [
    {
     "data": {
      "image/png": "[encoded data removed]",
      "text/plain": [
       "<Figure size 360x216 with 1 Axes>"
      ]
     },
     "metadata": {},
     "output_type": "display_data"
    }
   ],
   "source": [
    "plt.figure(figsize = (5, 3))\n",
    "ax = sns.lineplot(\n",
    "    data = df_hour,\n",
    "    x = \"level\", y = \"auc\", hue = \"Model\", style = \"Model\",\n",
    "    markers = True, dashes = False, ci = 95\n",
    ")\n",
    "ax.yaxis.set_major_formatter(FormatStrFormatter('%.2f'))\n",
    "x_label = 'Top k% active (by avg. working hours)'\n",
    "y_label = 'AUC'\n",
    "plt.xlabel(x_label, fontsize = 14)\n",
    "plt.ylabel(y_label, fontsize = 14)\n",
    "plt.xticks(fontsize = 14)\n",
    "plt.yticks(fontsize = 14)\n",
    "plt.tight_layout()\n",
    "plt.savefig('../visualization/hour_auc.png', dpi = 300)"
   ]
  },
  {
   "cell_type": "code",
   "execution_count": null,
   "metadata": {},
   "outputs": [
    {
     "name": "stdout",
     "output_type": "stream",
     "text": [
      "GBDT:\n",
      "mean accuracy:\t0.743\n",
      "mean auc:\t0.816\n",
      "Logistic:\n",
      "mean accuracy:\t0.718\n",
      "mean auc:\t0.793\n",
      "SVM:\n",
      "mean accuracy:\t0.717\n",
      "mean auc:\t0.794\n",
      "MLP:\n",
      "mean accuracy:\t0.736\n",
      "mean auc:\t0.805\n"
     ]
    }
   ],
   "source": [
    "df1 = df_hour.loc[(df_hour['level'] == 5)] \n",
    "\n",
    "models = list(mds.values())\n",
    "for model_name in models:\n",
    "    df2 = df1.loc[df1['Model'] == model_name]\n",
    "    print(model_name + ':')\n",
    "    print('mean accuracy:\\t' + str(\"%.3f\" % np.mean(df2.accuracy)))\n",
    "    print('mean auc:\\t' + str(\"%.3f\" % np.mean(df2.auc)))"
   ]
  },
  {
   "cell_type": "markdown",
   "metadata": {},
   "source": [
    "### 3.2.2. Prediction results by #working days"
   ]
  },
  {
   "cell_type": "code",
   "execution_count": null,
   "metadata": {},
   "outputs": [],
   "source": [
    "day_accuracies, day_auc = get_prediction_results('day')\n",
    "\n",
    "levels = []\n",
    "accs = []\n",
    "aucs = []\n",
    "models = []\n",
    "\n",
    "for level in measure_activity_levels['hour']:\n",
    "    for i in range(0, 30):\n",
    "        accuracies = day_accuracies[level][i]\n",
    "        auc = day_auc[level][i]\n",
    "        for model in mds:\n",
    "            levels.append(int(level * 100))\n",
    "            accs.append(accuracies[model])\n",
    "            aucs.append(auc[model])\n",
    "            models.append(mds[model])\n",
    "\n",
    "df_day = pd.DataFrame({'level': levels, 'accuracy': accs, 'auc': aucs, 'Model': models})"
   ]
  },
  {
   "cell_type": "code",
   "execution_count": null,
   "metadata": {},
   "outputs": [
    {
     "data": {
      "image/png": "[encoded data removed]",
      "text/plain": [
       "<Figure size 360x216 with 1 Axes>"
      ]
     },
     "metadata": {},
     "output_type": "display_data"
    }
   ],
   "source": [
    "plt.figure(figsize = (5, 3))\n",
    "ax = sns.lineplot(\n",
    "    data = df_day,\n",
    "    x = \"level\", y = \"accuracy\", hue = \"Model\", style = \"Model\",\n",
    "    markers = True, dashes = False, ci = 95\n",
    ")\n",
    "ax.yaxis.set_major_formatter(FormatStrFormatter('%.2f'))\n",
    "\n",
    "x_label = 'Top k% active (by #working days)'\n",
    "y_label = 'Accuracy'\n",
    "plt.xlabel(x_label, fontsize = 14)\n",
    "plt.ylabel(y_label, fontsize = 14)\n",
    "\n",
    "plt.xticks(fontsize = 14)\n",
    "plt.yticks(fontsize = 14)\n",
    "plt.tight_layout()\n",
    "plt.savefig('../visualization/day_accuracy.png', dpi = 300)"
   ]
  },
  {
   "cell_type": "code",
   "execution_count": null,
   "metadata": {},
   "outputs": [
    {
     "data": {
      "image/png": "[encoded data removed]",
      "text/plain": [
       "<Figure size 360x216 with 1 Axes>"
      ]
     },
     "metadata": {},
     "output_type": "display_data"
    }
   ],
   "source": [
    "plt.figure(figsize = (5, 3))\n",
    "ax = sns.lineplot(\n",
    "    data = df_day,\n",
    "    x = \"level\", y = \"auc\", hue = \"Model\", style = \"Model\",\n",
    "    markers = True, dashes = False, ci = 95\n",
    ")\n",
    "ax.yaxis.set_major_formatter(FormatStrFormatter('%.2f'))\n",
    "x_label = 'Top k% active (by #working days)'\n",
    "y_label = 'AUC'\n",
    "plt.xlabel(x_label, fontsize = 14)\n",
    "plt.ylabel(y_label, fontsize = 14)\n",
    "plt.xticks(fontsize = 14)\n",
    "plt.yticks(fontsize = 14)\n",
    "plt.tight_layout()\n",
    "plt.savefig('../visualization/day_auc.png', dpi = 300)"
   ]
  },
  {
   "cell_type": "markdown",
   "metadata": {},
   "source": [
    "#### 3.2.2.1 Precision and recall curve\n",
    "(presented in S4)"
   ]
  },
  {
   "cell_type": "code",
   "execution_count": null,
   "metadata": {},
   "outputs": [],
   "source": [
    "from sklearn.metrics import precision_recall_curve"
   ]
  },
  {
   "cell_type": "code",
   "execution_count": null,
   "metadata": {},
   "outputs": [],
   "source": [
    "# read y_test and y_pred\n",
    "infile = output_dir + 'day_pred'\n",
    "fin = open(infile, 'r')\n",
    "level_idx_model_prob = {}\n",
    "level_idx_gt_prob = {}\n",
    "for eachLine in fin:\n",
    "    words = eachLine.strip().split('\\t')\n",
    "    level = float(words[0])\n",
    "    if level not in level_idx_model_prob:\n",
    "        level_idx_model_prob[level] = {}\n",
    "        level_idx_gt_prob[level] = {}\n",
    "    i = int(words[1])\n",
    "    if i not in level_idx_model_prob[level]:\n",
    "        level_idx_model_prob[level][i] = {}\n",
    "        level_idx_gt_prob[level][i] = {}\n",
    "    model_pred_probs = json.loads(words[2])\n",
    "    level_idx_model_prob[level][i]['GBDT'] = model_pred_probs['GBDT']\n",
    "    level_idx_gt_prob[level][i]['GBDT'] = model_pred_probs['gt']\n",
    "fin.close()"
   ]
  },
  {
   "cell_type": "code",
   "execution_count": null,
   "metadata": {},
   "outputs": [],
   "source": [
    "level = 0.05\n",
    "precision_all = []\n",
    "recall_all = []\n",
    "for idx in range(0, 30):\n",
    "    y_true = np.array(level_idx_gt_prob[level][idx]['GBDT'])\n",
    "    y_scores = np.array(level_idx_model_prob[level][idx]['GBDT'])\n",
    "    precision, recall, thresholds = precision_recall_curve(y_true, y_scores)\n",
    "    precision_all += list(precision)\n",
    "    recall_all += list(recall)"
   ]
  },
  {
   "cell_type": "code",
   "execution_count": null,
   "metadata": {},
   "outputs": [
    {
     "data": {
      "image/png": "[encoded data removed]",
      "text/plain": [
       "<Figure size 432x288 with 1 Axes>"
      ]
     },
     "metadata": {},
     "output_type": "display_data"
    }
   ],
   "source": [
    "ax = sns.regplot(x = recall_all, y = precision_all, x_bins = 60, fit_reg = False)\n",
    "ax.yaxis.set_major_formatter(FormatStrFormatter('%.2f'))\n",
    "x_label = 'Recall'\n",
    "y_label = 'Precision'\n",
    "plt.xlabel(x_label, fontsize = 14)\n",
    "plt.ylabel(y_label, fontsize = 14)\n",
    "# plt.ylim(0.5, 0.8)\n",
    "plt.xticks(fontsize = 14)\n",
    "plt.yticks(fontsize = 14)\n",
    "# ax.legend(loc = 'best', title = 'Model') \n",
    "# plt.show()\n",
    "# plt.title('Precision-recall curve (all active users)', fontsize = 14)\n",
    "plt.tight_layout()\n",
    "plt.savefig('../visualization/day_precision_recall_binned_curve.png', dpi = 300)"
   ]
  },
  {
   "cell_type": "markdown",
   "metadata": {},
   "source": [
    "## 3.3 Model interpretation"
   ]
  },
  {
   "cell_type": "markdown",
   "metadata": {},
   "source": [
    "### 3.3.1 Feature importance and coefficients"
   ]
  },
  {
   "cell_type": "code",
   "execution_count": null,
   "metadata": {},
   "outputs": [],
   "source": [
    "measure = 'hour'\n",
    "activity_level = 0.1\n",
    "idx = 3"
   ]
  },
  {
   "cell_type": "code",
   "execution_count": null,
   "metadata": {},
   "outputs": [],
   "source": [
    "# read best params\n",
    "param_file = output_dir + 'hour_param'\n",
    "fin = open(param_file, 'r')\n",
    "idx_params = {}\n",
    "for eachLine in fin:\n",
    "    words = eachLine.strip().split('\\t')\n",
    "    level = float(words[0])\n",
    "    if level != activity_level:\n",
    "        continue\n",
    "    idx_params[int(words[1])] = json.loads(words[2])\n",
    "fin.close()"
   ]
  },
  {
   "cell_type": "code",
   "execution_count": null,
   "metadata": {},
   "outputs": [],
   "source": [
    "infile = input_dir + measure + '_dropout_' + str(activity_level) + '_' + str(idx)\n",
    "df = pd.read_csv(infile, sep = '\\t', header = 0, dtype = {\"lang\": \"string\"})\n",
    "cs = list(df.columns)\n",
    "selected_columns = cs[1:-1]\n",
    "df_feature = pd.DataFrame({'feature': selected_columns})\n",
    "\n",
    "X = df[selected_columns]\n",
    "y = df['dropout']\n",
    "X_train, X_test, y_train, y_test = train_test_split(X, y, test_size = 0.2, random_state = 0)\n",
    "scaler = MinMaxScaler()\n",
    "X_train_scaled = scaler.fit_transform(X_train)\n",
    "X_test_scaled = scaler.transform(X_test)\n",
    "\n",
    "logistic = LogisticRegression(C = idx_params[idx]['logistic']['C'], \n",
    "                          max_iter = idx_params[idx]['logistic']['max_iter'], \n",
    "                          penalty = idx_params[idx]['logistic']['penalty'])\n",
    "logistic.fit(X_train_scaled, y_train)\n",
    "feature_coefficient = list(logistic.coef_)[0]\n",
    "df_feature['coef_' + str(idx)] = list(feature_coefficient)\n",
    "\n",
    "gbdt = GradientBoostingClassifier(learning_rate = idx_params[idx]['GBDT']['learning_rate'],\n",
    "                              max_depth = idx_params[idx]['GBDT']['max_depth'],\n",
    "                              max_features = idx_params[idx]['GBDT']['max_features'],\n",
    "                              n_estimators = idx_params[idx]['GBDT']['n_estimators'])\n",
    "gbdt.fit(X_train_scaled, y_train)\n",
    "feature_importance = list(gbdt.feature_importances_)\n",
    "df_feature['importance_' + str(idx)] = feature_importance"
   ]
  },
  {
   "cell_type": "code",
   "execution_count": null,
   "metadata": {
    "scrolled": true
   },
   "outputs": [
    {
     "data": {
      "text/html": [
       "<div>\n",
       "<style scoped>\n",
       "    .dataframe tbody tr th:only-of-type {\n",
       "        vertical-align: middle;\n",
       "    }\n",
       "\n",
       "    .dataframe tbody tr th {\n",
       "        vertical-align: top;\n",
       "    }\n",
       "\n",
       "    .dataframe thead th {\n",
       "        text-align: right;\n",
       "    }\n",
       "</style>\n",
       "<table border=\"1\" class=\"dataframe\">\n",
       "  <thead>\n",
       "    <tr style=\"text-align: right;\">\n",
       "      <th></th>\n",
       "      <th>feature</th>\n",
       "      <th>coef</th>\n",
       "      <th>importance</th>\n",
       "    </tr>\n",
       "  </thead>\n",
       "  <tbody>\n",
       "    <tr>\n",
       "      <th>0</th>\n",
       "      <td>emoji_post_prop</td>\n",
       "      <td>2.661533</td>\n",
       "      <td>0.360167</td>\n",
       "    </tr>\n",
       "    <tr>\n",
       "      <th>1</th>\n",
       "      <td>emoji_days_log</td>\n",
       "      <td>-2.703828</td>\n",
       "      <td>0.173269</td>\n",
       "    </tr>\n",
       "    <tr>\n",
       "      <th>2</th>\n",
       "      <td>emoji_post_log</td>\n",
       "      <td>-0.566256</td>\n",
       "      <td>0.048915</td>\n",
       "    </tr>\n",
       "    <tr>\n",
       "      <th>3</th>\n",
       "      <td>prop_emotional_emoji</td>\n",
       "      <td>-0.199074</td>\n",
       "      <td>0.048278</td>\n",
       "    </tr>\n",
       "    <tr>\n",
       "      <th>4</th>\n",
       "      <td>emoji_entropy</td>\n",
       "      <td>-0.864852</td>\n",
       "      <td>0.048214</td>\n",
       "    </tr>\n",
       "    <tr>\n",
       "      <th>5</th>\n",
       "      <td>all_emojis_log</td>\n",
       "      <td>-0.180173</td>\n",
       "      <td>0.032321</td>\n",
       "    </tr>\n",
       "    <tr>\n",
       "      <th>6</th>\n",
       "      <td>emoji_types_log</td>\n",
       "      <td>-0.772280</td>\n",
       "      <td>0.027551</td>\n",
       "    </tr>\n",
       "    <tr>\n",
       "      <th>7</th>\n",
       "      <td>e20p</td>\n",
       "      <td>0.031414</td>\n",
       "      <td>0.019895</td>\n",
       "    </tr>\n",
       "    <tr>\n",
       "      <th>8</th>\n",
       "      <td>posemo</td>\n",
       "      <td>0.212255</td>\n",
       "      <td>0.019733</td>\n",
       "    </tr>\n",
       "    <tr>\n",
       "      <th>9</th>\n",
       "      <td>e54p</td>\n",
       "      <td>-0.329563</td>\n",
       "      <td>0.015941</td>\n",
       "    </tr>\n",
       "    <tr>\n",
       "      <th>10</th>\n",
       "      <td>negemo</td>\n",
       "      <td>-0.084306</td>\n",
       "      <td>0.015254</td>\n",
       "    </tr>\n",
       "    <tr>\n",
       "      <th>11</th>\n",
       "      <td>anx</td>\n",
       "      <td>-0.096312</td>\n",
       "      <td>0.014607</td>\n",
       "    </tr>\n",
       "    <tr>\n",
       "      <th>12</th>\n",
       "      <td>e63p</td>\n",
       "      <td>0.666545</td>\n",
       "      <td>0.013360</td>\n",
       "    </tr>\n",
       "    <tr>\n",
       "      <th>13</th>\n",
       "      <td>e14p</td>\n",
       "      <td>-0.149059</td>\n",
       "      <td>0.011690</td>\n",
       "    </tr>\n",
       "    <tr>\n",
       "      <th>14</th>\n",
       "      <td>emoji_d</td>\n",
       "      <td>-0.034318</td>\n",
       "      <td>0.008650</td>\n",
       "    </tr>\n",
       "    <tr>\n",
       "      <th>15</th>\n",
       "      <td>sad</td>\n",
       "      <td>0.042982</td>\n",
       "      <td>0.007689</td>\n",
       "    </tr>\n",
       "    <tr>\n",
       "      <th>16</th>\n",
       "      <td>e58p</td>\n",
       "      <td>-0.374655</td>\n",
       "      <td>0.007444</td>\n",
       "    </tr>\n",
       "    <tr>\n",
       "      <th>17</th>\n",
       "      <td>e35p</td>\n",
       "      <td>-0.431552</td>\n",
       "      <td>0.007403</td>\n",
       "    </tr>\n",
       "    <tr>\n",
       "      <th>18</th>\n",
       "      <td>e53p</td>\n",
       "      <td>-0.223358</td>\n",
       "      <td>0.006645</td>\n",
       "    </tr>\n",
       "    <tr>\n",
       "      <th>19</th>\n",
       "      <td>e43p</td>\n",
       "      <td>-0.223689</td>\n",
       "      <td>0.006034</td>\n",
       "    </tr>\n",
       "  </tbody>\n",
       "</table>\n",
       "</div>"
      ],
      "text/plain": [
       "                 feature      coef  importance\n",
       "0        emoji_post_prop  2.661533    0.360167\n",
       "1         emoji_days_log -2.703828    0.173269\n",
       "2         emoji_post_log -0.566256    0.048915\n",
       "3   prop_emotional_emoji -0.199074    0.048278\n",
       "4          emoji_entropy -0.864852    0.048214\n",
       "5         all_emojis_log -0.180173    0.032321\n",
       "6        emoji_types_log -0.772280    0.027551\n",
       "7                   e20p  0.031414    0.019895\n",
       "8                 posemo  0.212255    0.019733\n",
       "9                   e54p -0.329563    0.015941\n",
       "10                negemo -0.084306    0.015254\n",
       "11                   anx -0.096312    0.014607\n",
       "12                  e63p  0.666545    0.013360\n",
       "13                  e14p -0.149059    0.011690\n",
       "14               emoji_d -0.034318    0.008650\n",
       "15                   sad  0.042982    0.007689\n",
       "16                  e58p -0.374655    0.007444\n",
       "17                  e35p -0.431552    0.007403\n",
       "18                  e53p -0.223358    0.006645\n",
       "19                  e43p -0.223689    0.006034"
      ]
     },
     "execution_count": 198,
     "metadata": {},
     "output_type": "execute_result"
    }
   ],
   "source": [
    "df_draw = df_feature.rename(columns = {'coef_3': 'coef', 'importance_3': 'importance'})\n",
    "df_draw = df_draw.sort_values(by = 'importance', ascending=False)\n",
    "df_draw = df_draw.reset_index(drop = True)\n",
    "df_draw = df_draw.head(20)\n",
    "df_draw"
   ]
  },
  {
   "cell_type": "code",
   "execution_count": null,
   "metadata": {},
   "outputs": [],
   "source": [
    "feature_name_to_labels = {'emoji_post_prop': 'prop. emoji posts', 'all_emojis_log': '#emojis (log)', \n",
    "                          'emoji_entropy': 'entropy of emojis', 'emoji_post_log': '#emoji posts (log)',\n",
    "                          'emoji_types_log': '#unique emojis (log)', 'emoji_days_log': '#days using emoji (log)',\n",
    "                          'posemo': 'score of positive emotion', 'sad': 'score of sadness', 'anx': 'score of anxiety',\n",
    "                          'negemo': 'score of negative emotion', 'anger': 'score of anger', \n",
    "                          'emoji_d': 'score of depression', 'prop_emotional_emoji': 'prop. emotional emojis'}\n",
    "def get_feature_label(name):\n",
    "    if name in feature_name_to_labels:\n",
    "        return feature_name_to_labels[name]\n",
    "    else:\n",
    "        if name[0] == 'e':\n",
    "            return '%'\n",
    "        else:\n",
    "            return name"
   ]
  },
  {
   "cell_type": "code",
   "execution_count": null,
   "metadata": {},
   "outputs": [
    {
     "data": {
      "image/png": "[encoded data removed]",
      "text/plain": [
       "<Figure size 432x288 with 1 Axes>"
      ]
     },
     "metadata": {},
     "output_type": "display_data"
    }
   ],
   "source": [
    "plt.figure(figsize = (6, 4))\n",
    "feature_labels = []\n",
    "feature_names = df_draw.feature.values.tolist()\n",
    "for name in feature_names:\n",
    "    feature_labels.append(get_feature_label(name))\n",
    "ims = df_draw['importance'].values.tolist()\n",
    "colors = [1 if c >= 0 else 0 for c in ims]\n",
    "ax = sns.barplot(x = \"importance\", y = \"feature\", data = df_draw, hue = colors, palette=sns.color_palette(), dodge=False)\n",
    "\n",
    "# annotating the bars with coefficient begins\n",
    "i = 0\n",
    "coefs = df_draw['coef'].values.tolist()\n",
    "for p in ax.patches:\n",
    "    coef = coefs[i]\n",
    "    i += 1\n",
    "    if coef < 0:\n",
    "        ax.annotate(\"%.3f\" % coef, xy=(p.get_width()-0.005, p.get_y()+p.get_height()/2 + 0.1),\n",
    "                xytext=(5, 0), textcoords='offset points', ha=\"left\", va=\"center\", fontsize = 10)\n",
    "    else:\n",
    "        ax.annotate(\"+\" + \"%.3f\" % coef, xy=(p.get_width()-0.005, p.get_y()+p.get_height()/2 + 0.1),\n",
    "                xytext=(5, 0), textcoords='offset points', ha=\"left\", va=\"center\", fontsize = 10)\n",
    "# annotating the bars with coefficient ends\n",
    "        \n",
    "ax.set_yticklabels(labels = feature_labels, size = 10)#, rotation = 60\n",
    "xticks = [\"%.2f\" % x for x in ax.get_xticks()]\n",
    "ax.set_xticklabels(xticks, size = 10)\n",
    "# ax.set_xticklabels(ax.get_xticks(), size = 10)\n",
    "# ax.yaxis.tick_right()\n",
    "# plt.gca().invert_yaxis()\n",
    "ax.get_legend().remove()\n",
    "# plt.xlim(0, 0.6)\n",
    "plt.ylabel('')\n",
    "plt.xlabel('')\n",
    "# plt.xlabel('Importance', fontsize = 10)\n",
    "plt.tight_layout()\n",
    "plt.savefig('../visualization/avg_hours_daily_feature.pdf', dpi = 300)"
   ]
  },
  {
   "cell_type": "markdown",
   "metadata": {},
   "source": [
    "### 3.3.2 Correlations between features and dropouts"
   ]
  },
  {
   "cell_type": "code",
   "execution_count": null,
   "metadata": {},
   "outputs": [],
   "source": [
    "df_active_emoji = pd.read_csv(data_dir + 'active_emoji_users_0.1', sep = '\\t', header = 0)"
   ]
  },
  {
   "cell_type": "code",
   "execution_count": null,
   "metadata": {},
   "outputs": [],
   "source": [
    "df_active_non_emoji = pd.read_csv(data_dir + 'active_non_emoji_users_0.1', sep = '\\t',  header = 0)\n",
    "\n",
    "df_active_non_emoji['emoji_post_log'] = 0\n",
    "df_active_non_emoji['emoji_post_prop'] = 0\n",
    "df_active_non_emoji['emoji_entropy'] = 0\n",
    "df_active_non_emoji['anger'] = 0"
   ]
  },
  {
   "cell_type": "code",
   "execution_count": null,
   "metadata": {},
   "outputs": [],
   "source": [
    "sns.set(style = \"whitegrid\")\n",
    "xname_label = {'emoji_post_log': '#Emoji posts (log)', 'emoji_post_prop': 'Prop. emoji posts',\n",
    "               'anger': 'Score of angry emotion from emojis',\n",
    "              'emoji_entropy': 'Entropy of emojis', 'posemo': 'Score of positive emotion from emojis',\n",
    "              'emoji_d': 'Score of depression from emojis', 'e54p': 'Emoji: party popper',\n",
    "              'anx': 'Score of anxiety from emojis', 'emoji_days_log': '#Days using emoji',\n",
    "              'negemo': 'Score of negative emotion from emojis', 'e20p': 'Emoji: thumbs up',\n",
    "              'e63p': 'Emoji: waving hand'}"
   ]
  },
  {
   "cell_type": "code",
   "execution_count": null,
   "metadata": {
    "scrolled": true
   },
   "outputs": [
    {
     "data": {
      "image/png": "[encoded data removed]",
      "text/plain": [
       "<Figure size 432x288 with 1 Axes>"
      ]
     },
     "metadata": {},
     "output_type": "display_data"
    }
   ],
   "source": [
    "xname = 'emoji_post_log'\n",
    "x_label = xname_label[xname]\n",
    "\n",
    "yname = 'dropout'\n",
    "y_label = 'Dropout'\n",
    "\n",
    "ax = sns.regplot(x = xname, y = yname, data = df_active_emoji, order = 3, fit_reg = True, x_bins = 20)#\n",
    "ax2 = sns.regplot(x = xname, y = yname, data = df_active_non_emoji, fit_reg = False, x_bins = 10, marker=u'D', scatter_kws={'s':80})#\n",
    "plt.xlim(-0.2, 4.5)\n",
    "plt.ylim(-0.02, 0.5)\n",
    "plt.xlabel(x_label, fontsize = 18)\n",
    "plt.ylabel(y_label, fontsize = 18)\n",
    "plt.xticks(fontsize = 18)\n",
    "plt.yticks(fontsize = 18)\n",
    "plt.tight_layout()\n",
    "plt.savefig('../visualization/' + xname + '_vs_' + yname + '.png', dpi = 300)"
   ]
  },
  {
   "cell_type": "code",
   "execution_count": null,
   "metadata": {},
   "outputs": [
    {
     "data": {
      "image/png": "[encoded data removed]",
      "text/plain": [
       "<Figure size 432x288 with 1 Axes>"
      ]
     },
     "metadata": {},
     "output_type": "display_data"
    }
   ],
   "source": [
    "xname = 'emoji_post_prop'\n",
    "x_label = xname_label[xname]\n",
    "\n",
    "ax = sns.regplot(x = xname, y = yname, data = df_active_emoji, order = 2, fit_reg = True, x_bins = 20)#\n",
    "ax2 = sns.regplot(x = xname, y = yname, data = df_active_non_emoji, fit_reg = False, x_bins = 10, marker=u'D', scatter_kws={'s':80})#\n",
    "plt.ylim(-0.02, 0.5)\n",
    "plt.xlabel(x_label, fontsize = 18)\n",
    "plt.ylabel(y_label, fontsize = 18)\n",
    "plt.xticks(fontsize = 18)\n",
    "plt.yticks(fontsize = 18)\n",
    "plt.tight_layout()\n",
    "plt.savefig('../visualization/' + xname + '_vs_' + yname + '.png', dpi = 300)"
   ]
  },
  {
   "cell_type": "code",
   "execution_count": null,
   "metadata": {},
   "outputs": [
    {
     "data": {
      "image/png": "[encoded data removed]",
      "text/plain": [
       "<Figure size 432x288 with 1 Axes>"
      ]
     },
     "metadata": {},
     "output_type": "display_data"
    }
   ],
   "source": [
    "xname = 'emoji_entropy'\n",
    "x_label = xname_label[xname]\n",
    "\n",
    "yname = 'dropout'\n",
    "y_label = 'Dropout'\n",
    "\n",
    "ax = sns.regplot(x = xname, y = yname, data = df_active_emoji, order = 3, fit_reg = True, x_bins = 30)#\n",
    "ax2 = sns.regplot(x = xname, y = yname, data = df_active_non_emoji, fit_reg = False, x_bins = 10, marker=u'D', scatter_kws={'s':80})#\n",
    "plt.xlim(-0.04, 2)\n",
    "plt.ylim(-0.02, 0.5)\n",
    "plt.xlabel(x_label, fontsize = 18)\n",
    "ax.xaxis.set_major_formatter(FormatStrFormatter('%.1f'))\n",
    "plt.ylabel(y_label, fontsize = 18)\n",
    "plt.xticks(fontsize = 18)\n",
    "plt.yticks(fontsize = 18)\n",
    "plt.tight_layout()\n",
    "plt.savefig('../visualization/' + xname + '_vs_' + yname + '.png', dpi = 300)"
   ]
  },
  {
   "cell_type": "code",
   "execution_count": null,
   "metadata": {},
   "outputs": [
    {
     "data": {
      "image/png": "[encoded data removed]",
      "text/plain": [
       "<Figure size 432x288 with 1 Axes>"
      ]
     },
     "metadata": {},
     "output_type": "display_data"
    }
   ],
   "source": [
    "xname = 'anger'\n",
    "x_label = xname_label[xname]\n",
    "\n",
    "yname = 'dropout'\n",
    "y_label = 'Dropout'\n",
    "\n",
    "ax = sns.regplot(x = xname, y = yname, data = df_active_emoji, order = 5, fit_reg = True, x_bins = 400)#\n",
    "ax2 = sns.regplot(x = xname, y = yname, data = df_active_non_emoji, fit_reg = False, x_bins = 10, marker=u'D', scatter_kws={'s':80})#\n",
    "plt.xlim(-0.4, 17.5)\n",
    "plt.ylim(-0.02, 0.5)\n",
    "plt.xlabel(x_label, fontsize = 18)\n",
    "plt.ylabel(y_label, fontsize = 18)\n",
    "plt.xticks(fontsize = 18)\n",
    "plt.yticks(fontsize = 18)\n",
    "plt.tight_layout()\n",
    "plt.savefig('../visualization/' + xname + '_vs_' + yname + '.png', dpi = 300)"
   ]
  },
  {
   "cell_type": "markdown",
   "metadata": {},
   "source": [
    "### 3.3.3 Dropout ratio vs. programming languages\n",
    "(presented in S5)"
   ]
  },
  {
   "cell_type": "code",
   "execution_count": null,
   "metadata": {
    "scrolled": true
   },
   "outputs": [
    {
     "data": {
      "text/html": [
       "<div>\n",
       "<style scoped>\n",
       "    .dataframe tbody tr th:only-of-type {\n",
       "        vertical-align: middle;\n",
       "    }\n",
       "\n",
       "    .dataframe tbody tr th {\n",
       "        vertical-align: top;\n",
       "    }\n",
       "\n",
       "    .dataframe thead th {\n",
       "        text-align: right;\n",
       "    }\n",
       "</style>\n",
       "<table border=\"1\" class=\"dataframe\">\n",
       "  <thead>\n",
       "    <tr style=\"text-align: right;\">\n",
       "      <th></th>\n",
       "      <th>idx</th>\n",
       "      <th>lang</th>\n",
       "      <th>dropout</th>\n",
       "      <th>dropout_in_emoji</th>\n",
       "      <th>dropout_in_non_emoji</th>\n",
       "    </tr>\n",
       "  </thead>\n",
       "  <tbody>\n",
       "    <tr>\n",
       "      <th>0</th>\n",
       "      <td>0</td>\n",
       "      <td>JavaScript</td>\n",
       "      <td>0.411352</td>\n",
       "      <td>0.102581</td>\n",
       "      <td>0.437118</td>\n",
       "    </tr>\n",
       "    <tr>\n",
       "      <th>1</th>\n",
       "      <td>1</td>\n",
       "      <td>Python</td>\n",
       "      <td>0.417603</td>\n",
       "      <td>0.105775</td>\n",
       "      <td>0.435947</td>\n",
       "    </tr>\n",
       "    <tr>\n",
       "      <th>2</th>\n",
       "      <td>2</td>\n",
       "      <td>Java</td>\n",
       "      <td>0.422875</td>\n",
       "      <td>0.129118</td>\n",
       "      <td>0.434839</td>\n",
       "    </tr>\n",
       "    <tr>\n",
       "      <th>3</th>\n",
       "      <td>3</td>\n",
       "      <td>C++</td>\n",
       "      <td>0.494670</td>\n",
       "      <td>0.117690</td>\n",
       "      <td>0.512313</td>\n",
       "    </tr>\n",
       "    <tr>\n",
       "      <th>4</th>\n",
       "      <td>4</td>\n",
       "      <td>Go</td>\n",
       "      <td>0.336352</td>\n",
       "      <td>0.068713</td>\n",
       "      <td>0.365958</td>\n",
       "    </tr>\n",
       "    <tr>\n",
       "      <th>5</th>\n",
       "      <td>5</td>\n",
       "      <td>HTML</td>\n",
       "      <td>0.430102</td>\n",
       "      <td>0.148910</td>\n",
       "      <td>0.447343</td>\n",
       "    </tr>\n",
       "    <tr>\n",
       "      <th>6</th>\n",
       "      <td>6</td>\n",
       "      <td>PHP</td>\n",
       "      <td>0.411044</td>\n",
       "      <td>0.111136</td>\n",
       "      <td>0.432735</td>\n",
       "    </tr>\n",
       "    <tr>\n",
       "      <th>7</th>\n",
       "      <td>7</td>\n",
       "      <td>Ruby</td>\n",
       "      <td>0.359160</td>\n",
       "      <td>0.106063</td>\n",
       "      <td>0.396035</td>\n",
       "    </tr>\n",
       "    <tr>\n",
       "      <th>8</th>\n",
       "      <td>8</td>\n",
       "      <td>TypeScript</td>\n",
       "      <td>0.368674</td>\n",
       "      <td>0.087882</td>\n",
       "      <td>0.399523</td>\n",
       "    </tr>\n",
       "    <tr>\n",
       "      <th>9</th>\n",
       "      <td>9</td>\n",
       "      <td>C#</td>\n",
       "      <td>0.446148</td>\n",
       "      <td>0.150743</td>\n",
       "      <td>0.463463</td>\n",
       "    </tr>\n",
       "    <tr>\n",
       "      <th>10</th>\n",
       "      <td>10</td>\n",
       "      <td>C</td>\n",
       "      <td>0.440299</td>\n",
       "      <td>0.124578</td>\n",
       "      <td>0.455458</td>\n",
       "    </tr>\n",
       "    <tr>\n",
       "      <th>11</th>\n",
       "      <td>11</td>\n",
       "      <td>CSS</td>\n",
       "      <td>0.411531</td>\n",
       "      <td>0.121294</td>\n",
       "      <td>0.432183</td>\n",
       "    </tr>\n",
       "    <tr>\n",
       "      <th>12</th>\n",
       "      <td>12</td>\n",
       "      <td>Shell</td>\n",
       "      <td>0.396097</td>\n",
       "      <td>0.106630</td>\n",
       "      <td>0.417868</td>\n",
       "    </tr>\n",
       "    <tr>\n",
       "      <th>13</th>\n",
       "      <td>13</td>\n",
       "      <td>Rust</td>\n",
       "      <td>0.263924</td>\n",
       "      <td>0.053656</td>\n",
       "      <td>0.326281</td>\n",
       "    </tr>\n",
       "    <tr>\n",
       "      <th>14</th>\n",
       "      <td>14</td>\n",
       "      <td>Scala</td>\n",
       "      <td>0.330366</td>\n",
       "      <td>0.056633</td>\n",
       "      <td>0.360416</td>\n",
       "    </tr>\n",
       "    <tr>\n",
       "      <th>15</th>\n",
       "      <td>15</td>\n",
       "      <td>Swift</td>\n",
       "      <td>0.336273</td>\n",
       "      <td>0.107319</td>\n",
       "      <td>0.360071</td>\n",
       "    </tr>\n",
       "    <tr>\n",
       "      <th>16</th>\n",
       "      <td>16</td>\n",
       "      <td>Objective-C</td>\n",
       "      <td>0.407589</td>\n",
       "      <td>0.124012</td>\n",
       "      <td>0.424763</td>\n",
       "    </tr>\n",
       "    <tr>\n",
       "      <th>17</th>\n",
       "      <td>17</td>\n",
       "      <td>PowerShell</td>\n",
       "      <td>0.492536</td>\n",
       "      <td>0.501111</td>\n",
       "      <td>0.488688</td>\n",
       "    </tr>\n",
       "    <tr>\n",
       "      <th>18</th>\n",
       "      <td>18</td>\n",
       "      <td>Jupyter Notebook</td>\n",
       "      <td>0.447733</td>\n",
       "      <td>0.095699</td>\n",
       "      <td>0.456074</td>\n",
       "    </tr>\n",
       "    <tr>\n",
       "      <th>19</th>\n",
       "      <td>19</td>\n",
       "      <td>Kotlin</td>\n",
       "      <td>0.340158</td>\n",
       "      <td>0.084357</td>\n",
       "      <td>0.363326</td>\n",
       "    </tr>\n",
       "  </tbody>\n",
       "</table>\n",
       "</div>"
      ],
      "text/plain": [
       "    idx              lang   dropout  dropout_in_emoji  dropout_in_non_emoji\n",
       "0     0        JavaScript  0.411352          0.102581              0.437118\n",
       "1     1            Python  0.417603          0.105775              0.435947\n",
       "2     2              Java  0.422875          0.129118              0.434839\n",
       "3     3               C++  0.494670          0.117690              0.512313\n",
       "4     4                Go  0.336352          0.068713              0.365958\n",
       "5     5              HTML  0.430102          0.148910              0.447343\n",
       "6     6               PHP  0.411044          0.111136              0.432735\n",
       "7     7              Ruby  0.359160          0.106063              0.396035\n",
       "8     8        TypeScript  0.368674          0.087882              0.399523\n",
       "9     9                C#  0.446148          0.150743              0.463463\n",
       "10   10                 C  0.440299          0.124578              0.455458\n",
       "11   11               CSS  0.411531          0.121294              0.432183\n",
       "12   12             Shell  0.396097          0.106630              0.417868\n",
       "13   13              Rust  0.263924          0.053656              0.326281\n",
       "14   14             Scala  0.330366          0.056633              0.360416\n",
       "15   15             Swift  0.336273          0.107319              0.360071\n",
       "16   16       Objective-C  0.407589          0.124012              0.424763\n",
       "17   17        PowerShell  0.492536          0.501111              0.488688\n",
       "18   18  Jupyter Notebook  0.447733          0.095699              0.456074\n",
       "19   19            Kotlin  0.340158          0.084357              0.363326"
      ]
     },
     "execution_count": 25,
     "metadata": {},
     "output_type": "execute_result"
    }
   ],
   "source": [
    "df_lang = pd.read_csv(data_dir + 'lang_emoji_dropout', sep = '\\t', header = 0)\n",
    "df_lang"
   ]
  },
  {
   "cell_type": "code",
   "execution_count": null,
   "metadata": {
    "scrolled": true
   },
   "outputs": [
    {
     "data": {
      "image/png": "[encoded data removed]",
      "text/plain": [
       "<Figure size 720x360 with 2 Axes>"
      ]
     },
     "metadata": {},
     "output_type": "display_data"
    }
   ],
   "source": [
    "font_color = '#525252'\n",
    "hfont = {'fontname':'Calibri'}\n",
    "facecolor = '#eaeaf2'\n",
    "color_red = '#fd625e'\n",
    "color_blue = '#01b8aa'\n",
    "index = df_lang.index\n",
    "column0 = df_lang['dropout_in_emoji']\n",
    "column1 = df_lang['dropout_in_non_emoji']\n",
    "title0 = 'Emoji'\n",
    "title1 = 'Non-emoji'\n",
    "\n",
    "fig, axes = plt.subplots(figsize=(10,5), facecolor=facecolor, ncols=2, sharey=True)\n",
    "fig.tight_layout()\n",
    "\n",
    "axes[0].barh(index, column0, align='center', color=color_red, zorder=10)\n",
    "axes[0].set_title(title0, fontsize=18, pad=15, color=color_red, **hfont)\n",
    "axes[1].barh(index, column1, align='center', color=color_blue, zorder=10)\n",
    "axes[1].set_title(title1, fontsize=18, pad=15, color=color_blue, **hfont)\n",
    "\n",
    "# If you have positive numbers and want to invert the x-axis of the left plot\n",
    "axes[0].invert_xaxis() \n",
    "\n",
    "# To show data from highest to lowest\n",
    "plt.gca().invert_yaxis()\n",
    "\n",
    "axes[0].set(yticks=df_lang.index, yticklabels=df_lang.lang)\n",
    "axes[0].yaxis.tick_left()\n",
    "axes[0].tick_params(axis='y', colors='black') # tick color\n",
    "\n",
    "# axes[1].set_xticklabels([1000, 2000, 3000, 4000, 5000, 6000, 7000])\n",
    "\n",
    "for label in (axes[0].get_xticklabels() + axes[0].get_yticklabels()):\n",
    "    label.set(fontsize=13, color=font_color, **hfont)\n",
    "for label in (axes[1].get_xticklabels() + axes[1].get_yticklabels()):\n",
    "    label.set(fontsize=13, color=font_color, **hfont)\n",
    "\n",
    "plt.subplots_adjust(wspace=0, top=0.85, bottom=0.1, left=0.18, right=0.95)\n",
    "\n",
    "plt.savefig('../visualization/lang_emoji_dropout.png', facecolor = facecolor, dpi = 300)"
   ]
  },
  {
   "cell_type": "code",
   "execution_count": null,
   "metadata": {},
   "outputs": [],
   "source": []
  }
 ],
 "metadata": {
  "kernelspec": {
   "display_name": "699",
   "language": "python",
   "name": "python3"
  },
  "language_info": {
   "codemirror_mode": {
    "name": "ipython",
    "version": 3
   },
   "file_extension": ".py",
   "mimetype": "text/x-python",
   "name": "python",
   "nbconvert_exporter": "python",
   "pygments_lexer": "ipython3",
   "version": "3.8.16"
  },
  "vscode": {
   "interpreter": {
    "hash": "84ae68fd20a806b50c7e15189ca6b87bfbfe00d9eab272c2fc26bcc746f788ff"
   }
  }
 },
 "nbformat": 4,
 "nbformat_minor": 4
}
